{
  "nbformat": 4,
  "nbformat_minor": 0,
  "metadata": {
    "colab": {
      "provenance": [],
      "include_colab_link": true
    },
    "kernelspec": {
      "name": "python3",
      "display_name": "Python 3"
    },
    "language_info": {
      "name": "python"
    }
  },
  "cells": [
    {
      "cell_type": "markdown",
      "metadata": {
        "id": "view-in-github",
        "colab_type": "text"
      },
      "source": [
        "<a href=\"https://colab.research.google.com/github/Giuliana-24/PROYECTOS_SIC/blob/main/Proy2/NLP_TWEET.ipynb\" target=\"_parent\"><img src=\"https://colab.research.google.com/assets/colab-badge.svg\" alt=\"Open In Colab\"/></a>"
      ]
    },
    {
      "cell_type": "markdown",
      "source": [
        "# **PROYECTO NLP TWITTER**\n",
        "\n",
        "En este notebook desarrollaré el proceso de clasificación de tweets para evaluar si es un desastre o no\n",
        "\n",
        "\n",
        "\n",
        "---\n",
        "\n"
      ],
      "metadata": {
        "id": "xI6BDgvLu7Hn"
      }
    },
    {
      "cell_type": "markdown",
      "source": [
        "## ***1. Carga de datos***\n",
        "\n",
        "Importamos librerias como panda para manipulacion de datos en dataframes.\n",
        "\n",
        "Importamos Matplotlib para realizar visualizaciones.\n",
        "\n",
        "Importamos numpy para facilitar operaciones"
      ],
      "metadata": {
        "id": "X1zxvbaDvTJ_"
      }
    },
    {
      "cell_type": "code",
      "execution_count": null,
      "metadata": {
        "colab": {
          "base_uri": "https://localhost:8080/"
        },
        "id": "a9u7M_w-s0OS",
        "outputId": "d6538bb4-afe9-4a78-8300-12d959dbc9a3"
      },
      "outputs": [
        {
          "output_type": "stream",
          "name": "stdout",
          "text": [
            "   id keyword location                                               text  \\\n",
            "0   1     NaN      NaN  Our Deeds are the Reason of this #earthquake M...   \n",
            "1   4     NaN      NaN             Forest fire near La Ronge Sask. Canada   \n",
            "2   5     NaN      NaN  All residents asked to 'shelter in place' are ...   \n",
            "3   6     NaN      NaN  13,000 people receive #wildfires evacuation or...   \n",
            "4   7     NaN      NaN  Just got sent this photo from Ruby #Alaska as ...   \n",
            "\n",
            "   target  \n",
            "0       1  \n",
            "1       1  \n",
            "2       1  \n",
            "3       1  \n",
            "4       1  \n"
          ]
        }
      ],
      "source": [
        "import numpy as np\n",
        "import pandas as pd\n",
        "import matplotlib.pyplot as plt\n",
        "\n",
        "df_train = pd.read_csv('drive/MyDrive/datasets/train.csv')\n",
        "df_test = pd.read_csv('drive/MyDrive/datasets/test.csv')\n",
        "sample_submission = pd.read_csv('drive/MyDrive/datasets/sample_submission.csv')\n",
        "\n",
        "# Explorar los primeros registros de cada archivo\n",
        "print(df_train.head())\n"
      ]
    },
    {
      "cell_type": "code",
      "source": [
        "faltantes=df_train.isnull().sum()"
      ],
      "metadata": {
        "id": "JsIYO7gfvxWH"
      },
      "execution_count": null,
      "outputs": []
    },
    {
      "cell_type": "code",
      "source": [
        "df_train.duplicated().sum()"
      ],
      "metadata": {
        "colab": {
          "base_uri": "https://localhost:8080/"
        },
        "id": "t4hMQlViwVr_",
        "outputId": "1a616134-ec93-4942-c6ea-671d93723094"
      },
      "execution_count": null,
      "outputs": [
        {
          "output_type": "execute_result",
          "data": {
            "text/plain": [
              "0"
            ]
          },
          "metadata": {},
          "execution_count": 33
        }
      ]
    },
    {
      "cell_type": "markdown",
      "source": [
        "Como podemos observar no tenemos valores duplicados, ni faltantes en \"text\". Apenas tenemos en \"keywords\", en \"location\" existen en buena parte datos faltantes, sin emaro como no es la variable a evaluar, no hace falta cambiarla"
      ],
      "metadata": {
        "id": "SODRJ0pODVux"
      }
    },
    {
      "cell_type": "code",
      "source": [
        "faltantes.plot(kind='bar', color='yellow')\n",
        "plt.show()"
      ],
      "metadata": {
        "colab": {
          "base_uri": "https://localhost:8080/",
          "height": 474
        },
        "id": "xRZw7LEwweN3",
        "outputId": "4588d97a-4378-4938-f21a-a69e43991322"
      },
      "execution_count": null,
      "outputs": [
        {
          "output_type": "display_data",
          "data": {
            "text/plain": [
              "<Figure size 640x480 with 1 Axes>"
            ],
            "image/png": "[encoded data removed]"
          },
          "metadata": {}
        }
      ]
    },
    {
      "cell_type": "markdown",
      "source": [
        "## ***2. Limpieza de datos***\n",
        "\n",
        "Aquí veremos un poco más a detalle los datos, lo prepararemos para poder procesarlos. Vamos a eliminar stopwords, aplicar tokenización, lematización, etc."
      ],
      "metadata": {
        "id": "MxWEwMcJvw8A"
      }
    },
    {
      "cell_type": "markdown",
      "source": [
        "**Tokenizacion Re y WordTokenize**: Tras observar los datos, ocurre que existen hashta con palabras que podrian ser utiles para el reconocimiento de si es desastre o no. Re es más adecuado ya que permite realizar una eliminiacion de elementos no utiles(url, # y @), como tambien WordTokenize nos permite una tokenizacion mas minuciosa hacia lo que necesitamos."
      ],
      "metadata": {
        "id": "zsnkKJmpawKx"
      }
    },
    {
      "cell_type": "code",
      "source": [
        "import nltk\n",
        "\n",
        "# Descargar los recursos necesarios para trabajar con NLTK\n",
        "nltk.download('punkt')          # Datos para la tokenización de oraciones y palabras\n",
        "nltk.download('stopwords')      # Lista de stopwords en varios idiomas\n",
        "nltk.download('averaged_perceptron_tagger')  # Modelo para el etiquetado de partes del discurso\n",
        "nltk.download('wordnet')        # Diccionario léxico para lematización\n"
      ],
      "metadata": {
        "colab": {
          "base_uri": "https://localhost:8080/"
        },
        "id": "TpO9r0oTODo5",
        "outputId": "a572782a-f601-4196-eab3-97846f09b3fe"
      },
      "execution_count": null,
      "outputs": [
        {
          "output_type": "stream",
          "name": "stderr",
          "text": [
            "[nltk_data] Downloading package punkt to /root/nltk_data...\n",
            "[nltk_data]   Package punkt is already up-to-date!\n",
            "[nltk_data] Downloading package stopwords to /root/nltk_data...\n",
            "[nltk_data]   Package stopwords is already up-to-date!\n",
            "[nltk_data] Downloading package averaged_perceptron_tagger to\n",
            "[nltk_data]     /root/nltk_data...\n",
            "[nltk_data]   Package averaged_perceptron_tagger is already up-to-\n",
            "[nltk_data]       date!\n",
            "[nltk_data] Downloading package wordnet to /root/nltk_data...\n",
            "[nltk_data]   Package wordnet is already up-to-date!\n"
          ]
        },
        {
          "output_type": "execute_result",
          "data": {
            "text/plain": [
              "True"
            ]
          },
          "metadata": {},
          "execution_count": 108
        }
      ]
    },
    {
      "cell_type": "markdown",
      "source": [
        "Extraer caracteres especiales, urls, @ y # utilizando Re: Esto nos permite analizar el texto tal cual para evitar confusiones por caracteres no alfanumericos, tanto como estandarizamos  todo en minusculas."
      ],
      "metadata": {
        "id": "XjWb_lSBSjQw"
      }
    },
    {
      "cell_type": "code",
      "source": [
        "import re\n",
        "\n",
        "def limpiar_tokens(token):\n",
        "        #Minusculas\n",
        "        token=token.lower()\n",
        "        # Eliminar URLs\n",
        "        token = re.sub(r\"http\\S+|www\\S+|https\\S+\", '', token)\n",
        "        # Eliminar arrobas\n",
        "        token = re.sub(r'@\\w+', '', token)\n",
        "        # Eliminar #, conservando la palabra\n",
        "        token = re.sub(r'#', '', token)\n",
        "        # Eliminar caracteres no deseados\n",
        "        token = re.sub(r'\\W', ' ', token)\n",
        "\n",
        "        return token\n",
        "\n",
        "# Aplicamos\n",
        "df_train['texto_limpio'] = df_train['text'].apply(limpiar_tokens)\n",
        "df_test['texto_limpio'] = df_test['text'].apply(limpiar_tokens)\n",
        "\n",
        "\n",
        "print(df_train[['text','texto_limpio']].head())\n",
        "print(df_test[['text','texto_limpio']].head())"
      ],
      "metadata": {
        "colab": {
          "base_uri": "https://localhost:8080/"
        },
        "id": "f_G2d8sja0Y9",
        "outputId": "90d570dd-65c7-49b7-b5a2-26de1dd89eb9"
      },
      "execution_count": null,
      "outputs": [
        {
          "output_type": "stream",
          "name": "stdout",
          "text": [
            "                                                text  \\\n",
            "0  Our Deeds are the Reason of this #earthquake M...   \n",
            "1             Forest fire near La Ronge Sask. Canada   \n",
            "2  All residents asked to 'shelter in place' are ...   \n",
            "3  13,000 people receive #wildfires evacuation or...   \n",
            "4  Just got sent this photo from Ruby #Alaska as ...   \n",
            "\n",
            "                                        texto_limpio  \n",
            "0  our deeds are the reason of this earthquake ma...  \n",
            "1             forest fire near la ronge sask  canada  \n",
            "2  all residents asked to  shelter in place  are ...  \n",
            "3  13 000 people receive wildfires evacuation ord...  \n",
            "4  just got sent this photo from ruby alaska as s...  \n",
            "                                                text  \\\n",
            "0                 Just happened a terrible car crash   \n",
            "1  Heard about #earthquake is different cities, s...   \n",
            "2  there is a forest fire at spot pond, geese are...   \n",
            "3           Apocalypse lighting. #Spokane #wildfires   \n",
            "4      Typhoon Soudelor kills 28 in China and Taiwan   \n",
            "\n",
            "                                        texto_limpio  \n",
            "0                 just happened a terrible car crash  \n",
            "1  heard about earthquake is different cities  st...  \n",
            "2  there is a forest fire at spot pond  geese are...  \n",
            "3             apocalypse lighting  spokane wildfires  \n",
            "4      typhoon soudelor kills 28 in china and taiwan  \n"
          ]
        }
      ]
    },
    {
      "cell_type": "markdown",
      "source": [
        "A continuacion separaremos las palabras con WordTokenize"
      ],
      "metadata": {
        "id": "C2gWyx7oS0Xl"
      }
    },
    {
      "cell_type": "code",
      "source": [
        "from nltk.tokenize import word_tokenize\n",
        "\n",
        "# Tokenización usando word_tokenize de NLTK\n",
        "\n",
        "df_train['tokenizado'] = df_train['texto_limpio'].apply(word_tokenize)\n",
        "df_test['tokenizado'] = df_test['texto_limpio'].apply(word_tokenize)\n",
        "\n",
        "# Imprimir texto tokenizado y no tokenizado\n",
        "print(df_train[['texto_limpio', 'tokenizado']].head(3))\n",
        "print(df_test[['texto_limpio', 'tokenizado']].head(3))"
      ],
      "metadata": {
        "colab": {
          "base_uri": "https://localhost:8080/"
        },
        "id": "Y3_8IIfhQHSP",
        "outputId": "52656bf0-e6f1-4bce-e122-10f69a5cd10e"
      },
      "execution_count": null,
      "outputs": [
        {
          "output_type": "stream",
          "name": "stdout",
          "text": [
            "                                        texto_limpio  \\\n",
            "0  our deeds are the reason of this earthquake ma...   \n",
            "1             forest fire near la ronge sask  canada   \n",
            "2  all residents asked to  shelter in place  are ...   \n",
            "\n",
            "                                          tokenizado  \n",
            "0  [our, deeds, are, the, reason, of, this, earth...  \n",
            "1      [forest, fire, near, la, ronge, sask, canada]  \n",
            "2  [all, residents, asked, to, shelter, in, place...  \n",
            "                                        texto_limpio  \\\n",
            "0                 just happened a terrible car crash   \n",
            "1  heard about earthquake is different cities  st...   \n",
            "2  there is a forest fire at spot pond  geese are...   \n",
            "\n",
            "                                          tokenizado  \n",
            "0          [just, happened, a, terrible, car, crash]  \n",
            "1  [heard, about, earthquake, is, different, citi...  \n",
            "2  [there, is, a, forest, fire, at, spot, pond, g...  \n"
          ]
        }
      ]
    },
    {
      "cell_type": "markdown",
      "source": [
        "Eliminacion de StopWords: En este caso, utilizamos NLTK por simplicidad. Esto es necesario porque si tenemos el df lleno de palabras sin sinificado relevante, probablemente no haria una muy buen prediccion. Para esto es importante dejar lo importante que permite al texto identificarlo como desastre o no."
      ],
      "metadata": {
        "id": "sdDqMfHib607"
      }
    },
    {
      "cell_type": "code",
      "source": [
        "from nltk.corpus import stopwords\n",
        "\n",
        "# Confi en ingles\n",
        "stop_words = set(stopwords.words('english'))\n",
        "\n",
        "def quitar_stopwords(words):\n",
        "    return [word for word in words if word not in stop_words]\n",
        "\n",
        "# Aplicar al df_train y df_test\n",
        "df_train['tokens_limpio'] = df_train['tokenizado'].apply(quitar_stopwords)\n",
        "df_test['tokens_limpio'] = df_test['tokenizado'].apply(quitar_stopwords)\n",
        "\n",
        "print(df_train[['tokenizado', 'tokens_limpio']].head())\n",
        "print(df_test[['tokenizado', 'tokens_limpio']].head())\n",
        "\n"
      ],
      "metadata": {
        "colab": {
          "base_uri": "https://localhost:8080/"
        },
        "id": "VleObSEQb_tn",
        "outputId": "4c1ab748-c8b8-4964-9a00-b84344b42495"
      },
      "execution_count": null,
      "outputs": [
        {
          "output_type": "stream",
          "name": "stdout",
          "text": [
            "                                          tokenizado  \\\n",
            "0  [our, deeds, are, the, reason, of, this, earth...   \n",
            "1      [forest, fire, near, la, ronge, sask, canada]   \n",
            "2  [all, residents, asked, to, shelter, in, place...   \n",
            "3  [13, 000, people, receive, wildfires, evacuati...   \n",
            "4  [just, got, sent, this, photo, from, ruby, ala...   \n",
            "\n",
            "                                       tokens_limpio  \n",
            "0  [deeds, reason, earthquake, may, allah, forgiv...  \n",
            "1      [forest, fire, near, la, ronge, sask, canada]  \n",
            "2  [residents, asked, shelter, place, notified, o...  \n",
            "3  [13, 000, people, receive, wildfires, evacuati...  \n",
            "4  [got, sent, photo, ruby, alaska, smoke, wildfi...  \n",
            "                                          tokenizado  \\\n",
            "0          [just, happened, a, terrible, car, crash]   \n",
            "1  [heard, about, earthquake, is, different, citi...   \n",
            "2  [there, is, a, forest, fire, at, spot, pond, g...   \n",
            "3         [apocalypse, lighting, spokane, wildfires]   \n",
            "4  [typhoon, soudelor, kills, 28, in, china, and,...   \n",
            "\n",
            "                                       tokens_limpio  \n",
            "0                   [happened, terrible, car, crash]  \n",
            "1  [heard, earthquake, different, cities, stay, s...  \n",
            "2  [forest, fire, spot, pond, geese, fleeing, acr...  \n",
            "3         [apocalypse, lighting, spokane, wildfires]  \n",
            "4      [typhoon, soudelor, kills, 28, china, taiwan]  \n"
          ]
        }
      ]
    },
    {
      "cell_type": "markdown",
      "source": [
        "Lemmatization: Es importante colocar las palabras de forma base para así evitar confusiones entre terminos que a penas varian pero son reconocidos como diferente. Para esta situacion usare NLTK.\n"
      ],
      "metadata": {
        "id": "3USYHF5LnEZ6"
      }
    },
    {
      "cell_type": "code",
      "source": [
        "from nltk.stem import WordNetLemmatizer\n",
        "\n",
        "# Crear lematizador\n",
        "lemmatizer = WordNetLemmatizer()\n",
        "\n",
        "def lematizar_tokens(tokens):\n",
        "    tokens_le = [lemmatizer.lemmatize(token) for token in tokens]\n",
        "    return tokens_le\n",
        "\n",
        "# Lematizar tokens limpios\n",
        "df_train['tokens_lem'] = df_train['tokens_limpio'].apply(lematizar_tokens)\n",
        "df_test['tokens_lem'] = df_test['tokens_limpio'].apply(lematizar_tokens)\n",
        "\n",
        "#Ver tokens limpios y lematizados\n",
        "print(df_train[['tokens_lem','tokens_limpio']].head())\n",
        "print(df_test[['tokens_lem','tokens_limpio']].head())"
      ],
      "metadata": {
        "colab": {
          "base_uri": "https://localhost:8080/"
        },
        "id": "3TfOWAXpnhwA",
        "outputId": "43ca7938-4611-41ae-f610-28c8bce00979"
      },
      "execution_count": null,
      "outputs": [
        {
          "output_type": "stream",
          "name": "stdout",
          "text": [
            "                                          tokens_lem  \\\n",
            "0  [deed, reason, earthquake, may, allah, forgive...   \n",
            "1      [forest, fire, near, la, ronge, sask, canada]   \n",
            "2  [resident, asked, shelter, place, notified, of...   \n",
            "3  [13, 000, people, receive, wildfire, evacuatio...   \n",
            "4  [got, sent, photo, ruby, alaska, smoke, wildfi...   \n",
            "\n",
            "                                       tokens_limpio  \n",
            "0  [deeds, reason, earthquake, may, allah, forgiv...  \n",
            "1      [forest, fire, near, la, ronge, sask, canada]  \n",
            "2  [residents, asked, shelter, place, notified, o...  \n",
            "3  [13, 000, people, receive, wildfires, evacuati...  \n",
            "4  [got, sent, photo, ruby, alaska, smoke, wildfi...  \n",
            "                                          tokens_lem  \\\n",
            "0                   [happened, terrible, car, crash]   \n",
            "1  [heard, earthquake, different, city, stay, saf...   \n",
            "2  [forest, fire, spot, pond, goose, fleeing, acr...   \n",
            "3          [apocalypse, lighting, spokane, wildfire]   \n",
            "4       [typhoon, soudelor, kill, 28, china, taiwan]   \n",
            "\n",
            "                                       tokens_limpio  \n",
            "0                   [happened, terrible, car, crash]  \n",
            "1  [heard, earthquake, different, cities, stay, s...  \n",
            "2  [forest, fire, spot, pond, geese, fleeing, acr...  \n",
            "3         [apocalypse, lighting, spokane, wildfires]  \n",
            "4      [typhoon, soudelor, kills, 28, china, taiwan]  \n"
          ]
        }
      ]
    },
    {
      "cell_type": "markdown",
      "source": [
        "Vectoriza: Para poder vectorizar nuestros datos, debo devolverlo a tipo cadena. Despues de eso se aplica el vectorizador. Que nos permite reconocer las palabras más recurrentes que puede tener el texto."
      ],
      "metadata": {
        "id": "mW2DkrGVcybF"
      }
    },
    {
      "cell_type": "code",
      "source": [
        "from sklearn.feature_extraction.text import TfidfVectorizer\n",
        "\n",
        "# Crear el vectorizador TF-IDF\n",
        "vectorizador = TfidfVectorizer()\n",
        "\n",
        "# Convertir listas de tokens de nuevo a texto\n",
        "df_train['texto_cadena'] = df_train['tokens_lem'].apply(lambda x: ' '.join(x))\n",
        "df_test['texto_cadena'] = df_test['tokens_lem'].apply(lambda x: ' '.join(x))\n",
        "\n",
        "# Ajustar y transformar el texto en el conjunto de entrenamiento\n",
        "X_train = vectorizador.fit_transform(df_train['texto_cadena'])\n",
        "\n",
        "# Transformar el texto en el conjunto de prueba\n",
        "X_test = vectorizador.transform(df_test['texto_cadena'])\n",
        "\n",
        "# Ver las dimensiones de los datos transformados\n",
        "print(X_train.shape)  # Datos de entrenamiento\n",
        "print(X_test.shape)   # Datos de prueba\n",
        "\n",
        "\n"
      ],
      "metadata": {
        "colab": {
          "base_uri": "https://localhost:8080/"
        },
        "id": "IZuUMiqodZHB",
        "outputId": "fbf810a5-a151-49ab-c14d-6fdabdbe8b20"
      },
      "execution_count": null,
      "outputs": [
        {
          "output_type": "stream",
          "name": "stdout",
          "text": [
            "(7613, 13453)\n",
            "(3263, 13453)\n"
          ]
        }
      ]
    },
    {
      "cell_type": "code",
      "source": [
        "# Definir la variable objetivo\n",
        "y_train = df_train['target']\n",
        "\n",
        "# Verificar la distribución de las clases\n",
        "print(y_train.value_counts())\n"
      ],
      "metadata": {
        "colab": {
          "base_uri": "https://localhost:8080/"
        },
        "id": "X-1yiQvvdnFp",
        "outputId": "337a6021-a847-488f-fe1d-fe9979899ab1"
      },
      "execution_count": null,
      "outputs": [
        {
          "output_type": "stream",
          "name": "stdout",
          "text": [
            "target\n",
            "0    4342\n",
            "1    3271\n",
            "Name: count, dtype: int64\n"
          ]
        }
      ]
    },
    {
      "cell_type": "markdown",
      "source": [
        "Division de datos con train_test_split 😄:"
      ],
      "metadata": {
        "id": "mz6g17i073Nn"
      }
    },
    {
      "cell_type": "code",
      "source": [
        "from sklearn.model_selection import train_test_split\n",
        "\n",
        "# Dividir los datos\n",
        "X_train_split, X_vali, y_train_split, y_vali = train_test_split(X_train, y_train, test_size=0.2, random_state=42)\n",
        "\n",
        "# Ver las dimensiones\n",
        "print(X_train_split.shape, X_vali.shape)\n"
      ],
      "metadata": {
        "colab": {
          "base_uri": "https://localhost:8080/"
        },
        "id": "Cf9bPUy7d3Lz",
        "outputId": "5d37e975-e47f-438a-a83b-0fd9d2aae01b"
      },
      "execution_count": null,
      "outputs": [
        {
          "output_type": "stream",
          "name": "stdout",
          "text": [
            "(6090, 13453) (1523, 13453)\n"
          ]
        }
      ]
    },
    {
      "cell_type": "markdown",
      "source": [
        "Aplicacion de Modelo de Regresion Logistica:\n",
        "\n",
        "Este lo elegi ya que semanas atras lo vimos en clase y funcionaba como clasificador, además que efectivo, es simple en su aplicación."
      ],
      "metadata": {
        "id": "1DGWz4VC8Owq"
      }
    },
    {
      "cell_type": "code",
      "source": [
        "from sklearn.linear_model import LogisticRegression\n",
        "\n",
        "# Crear el modelo de regresión logística\n",
        "model = LogisticRegression()\n",
        "\n",
        "# Entrenar el modelo\n",
        "model.fit(X_train_split, y_train_split)\n",
        "\n",
        "# Predecir con datos de validación\n",
        "y_val_pred = model.predict(X_vali)\n"
      ],
      "metadata": {
        "id": "f7PVc30td-p2"
      },
      "execution_count": null,
      "outputs": []
    },
    {
      "cell_type": "markdown",
      "source": [
        "**Evaluacion de resultados a traves de metricas**"
      ],
      "metadata": {
        "id": "jWaQt60v8o4A"
      }
    },
    {
      "cell_type": "code",
      "source": [
        "from sklearn.metrics import classification_report\n",
        "\n",
        "# Evaluar el modelo con la validación\n",
        "print(classification_report(y_vali, y_val_pred))\n"
      ],
      "metadata": {
        "colab": {
          "base_uri": "https://localhost:8080/"
        },
        "id": "uqO-0PPSeHuB",
        "outputId": "b74ffec8-4a8a-4e47-8d65-7d90c4ff60f4"
      },
      "execution_count": null,
      "outputs": [
        {
          "output_type": "stream",
          "name": "stdout",
          "text": [
            "              precision    recall  f1-score   support\n",
            "\n",
            "           0       0.78      0.91      0.84       874\n",
            "           1       0.84      0.65      0.73       649\n",
            "\n",
            "    accuracy                           0.80      1523\n",
            "   macro avg       0.81      0.78      0.78      1523\n",
            "weighted avg       0.80      0.80      0.79      1523\n",
            "\n"
          ]
        }
      ]
    },
    {
      "cell_type": "code",
      "source": [
        "\n",
        "# Hacer predicciones en el conjunto de prueba\n",
        "y_test_pred = model.predict(X_test)"
      ],
      "metadata": {
        "id": "iPyrZYFdeLnJ"
      },
      "execution_count": null,
      "outputs": []
    },
    {
      "cell_type": "markdown",
      "source": [
        "## ***Conteo de desastres y no desastres de datos de entrenamiento***"
      ],
      "metadata": {
        "id": "hHXk5-WX-FrA"
      }
    },
    {
      "cell_type": "code",
      "source": [
        "entreno=df_train['target'].value_counts()\n",
        "entreno.plot(kind='bar',color='pink')\n",
        "plt.show()"
      ],
      "metadata": {
        "colab": {
          "base_uri": "https://localhost:8080/",
          "height": 444
        },
        "id": "xnGKLILk8xwB",
        "outputId": "95adb7bd-81fb-43e3-8b43-b3af1ea5edd7"
      },
      "execution_count": null,
      "outputs": [
        {
          "output_type": "display_data",
          "data": {
            "text/plain": [
              "<Figure size 640x480 with 1 Axes>"
            ],
            "image/png": "[encoded data removed]"
          },
          "metadata": {}
        }
      ]
    },
    {
      "cell_type": "markdown",
      "source": [
        "## ***Conteo de desastres y no desastres de datos de prediccion***"
      ],
      "metadata": {
        "id": "tvtZNDgW-bHa"
      }
    },
    {
      "cell_type": "code",
      "source": [
        "df_test['y_test_pred']=y_test_pred\n",
        "predi=df_test['y_test_pred'].value_counts()\n",
        "predi.plot(kind='bar',color='orange')\n",
        "plt.show()"
      ],
      "metadata": {
        "colab": {
          "base_uri": "https://localhost:8080/",
          "height": 444
        },
        "id": "aFJgdUoY-lOe",
        "outputId": "b1a800b5-2329-43d7-861f-917cf38ad159"
      },
      "execution_count": null,
      "outputs": [
        {
          "output_type": "display_data",
          "data": {
            "text/plain": [
              "<Figure size 640x480 with 1 Axes>"
            ],
            "image/png": "[encoded data removed]"
          },
          "metadata": {}
        }
      ]
    },
    {
      "cell_type": "code",
      "source": [
        "# Copiar el archivo de sample_submission\n",
        "submission = sample_submission.copy()\n",
        "\n",
        "# Llenar la columna 'target' con las predicciones\n",
        "submission['target'] = y_test_pred\n",
        "\n",
        "# Guardar el archivo CSV para submission\n",
        "submission.to_csv('submission.csv', index=False)\n",
        "\n",
        "print(\"Submission file created!\")\n"
      ],
      "metadata": {
        "colab": {
          "base_uri": "https://localhost:8080/"
        },
        "id": "KoNZaDDIe35J",
        "outputId": "291b2d38-48ad-449c-aaf2-4eefbc08f661"
      },
      "execution_count": null,
      "outputs": [
        {
          "output_type": "stream",
          "name": "stdout",
          "text": [
            "Submission file created!\n"
          ]
        }
      ]
    },
    {
      "cell_type": "code",
      "source": [
        "submi=pd.read_csv('submission.csv')\n",
        "print(submi['target'].value_counts())\n"
      ],
      "metadata": {
        "colab": {
          "base_uri": "https://localhost:8080/"
        },
        "id": "E2EunRU3fApm",
        "outputId": "a1e8b537-9247-4e30-d192-88de23ed9f96"
      },
      "execution_count": null,
      "outputs": [
        {
          "output_type": "stream",
          "name": "stdout",
          "text": [
            "target\n",
            "0    2174\n",
            "1    1089\n",
            "Name: count, dtype: int64\n"
          ]
        }
      ]
    }
  ]
}